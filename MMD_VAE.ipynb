{
  "nbformat": 4,
  "nbformat_minor": 0,
  "metadata": {
    "colab": {
      "name": "mmd_vae.ipynb",
      "version": "0.3.2",
      "provenance": []
    },
    "kernelspec": {
      "name": "python3",
      "display_name": "Python 3"
    },
    "accelerator": "GPU"
  },
  "cells": [
    {
      "cell_type": "code",
      "metadata": {
        "id": "dYklpAeC5xJF",
        "colab_type": "code",
        "colab": {}
      },
      "source": [
        "import tensorflow as tf\n",
        "import numpy as np\n",
        "from matplotlib import pyplot as plt\n",
        "import math, os"
      ],
      "execution_count": 0,
      "outputs": []
    },
    {
      "cell_type": "code",
      "metadata": {
        "id": "1rLXEXYV5xJO",
        "colab_type": "code",
        "colab": {}
      },
      "source": [
        "# Define some handy network layers\n",
        "def lrelu(x, rate=0.1):\n",
        "    return tf.maximum(tf.minimum(x * rate, 0), x)\n",
        "\n",
        "def conv2d_lrelu(inputs, num_outputs, kernel_size, stride):\n",
        "    conv = tf.contrib.layers.convolution2d(inputs, num_outputs, kernel_size, stride, \n",
        "                                           weights_initializer=tf.contrib.layers.xavier_initializer(),\n",
        "                                           activation_fn=tf.identity)\n",
        "    conv = lrelu(conv)\n",
        "    return conv\n",
        "\n",
        "def conv2d_t_relu(inputs, num_outputs, kernel_size, stride):\n",
        "    conv = tf.contrib.layers.convolution2d_transpose(inputs, num_outputs, kernel_size, stride,\n",
        "                                                     weights_initializer=tf.contrib.layers.xavier_initializer(),\n",
        "                                                     activation_fn=tf.identity)\n",
        "    conv = tf.nn.relu(conv)\n",
        "    return conv\n",
        "\n",
        "def fc_lrelu(inputs, num_outputs):\n",
        "    fc = tf.contrib.layers.fully_connected(inputs, num_outputs,\n",
        "                                           weights_initializer=tf.contrib.layers.xavier_initializer(),\n",
        "                                           activation_fn=tf.identity)\n",
        "    fc = lrelu(fc)\n",
        "    return fc\n",
        "\n",
        "def fc_relu(inputs, num_outputs):\n",
        "    fc = tf.contrib.layers.fully_connected(inputs, num_outputs,\n",
        "                                           weights_initializer=tf.contrib.layers.xavier_initializer(),\n",
        "                                           activation_fn=tf.identity)\n",
        "    fc = tf.nn.relu(fc)\n",
        "    return fc"
      ],
      "execution_count": 0,
      "outputs": []
    },
    {
      "cell_type": "code",
      "metadata": {
        "id": "Ku0ZX7fc5xJS",
        "colab_type": "code",
        "colab": {}
      },
      "source": [
        "# Encoder and decoder use the DC-GAN architecture\n",
        "def encoder(x, z_dim):\n",
        "    with tf.variable_scope('encoder'):\n",
        "        conv1 = conv2d_lrelu(x, 64, 4, 2)\n",
        "        conv2 = conv2d_lrelu(conv1, 128, 4, 2)\n",
        "        conv2 = tf.reshape(conv2, [-1, np.prod(conv2.get_shape().as_list()[1:])])\n",
        "        fc1 = fc_lrelu(conv2, 1024)\n",
        "        return tf.contrib.layers.fully_connected(fc1, z_dim, activation_fn=tf.identity)"
      ],
      "execution_count": 0,
      "outputs": []
    },
    {
      "cell_type": "code",
      "metadata": {
        "id": "B0vNGMYy5xJV",
        "colab_type": "code",
        "colab": {}
      },
      "source": [
        "def decoder(z, reuse=False):\n",
        "    with tf.variable_scope('decoder') as vs:\n",
        "        if reuse:\n",
        "            vs.reuse_variables()\n",
        "        fc1 = fc_relu(z, 1024)\n",
        "        fc2 = fc_relu(fc1, 7*7*128)\n",
        "        fc2 = tf.reshape(fc2, tf.stack([tf.shape(fc2)[0], 7, 7, 128]))\n",
        "        conv1 = conv2d_t_relu(fc2, 64, 4, 2)\n",
        "        output = tf.contrib.layers.convolution2d_transpose(conv1, 1, 4, 2, activation_fn=tf.sigmoid)\n",
        "        return output"
      ],
      "execution_count": 0,
      "outputs": []
    },
    {
      "cell_type": "code",
      "metadata": {
        "id": "7SUc2lLR5xJZ",
        "colab_type": "code",
        "outputId": "5e9afc30-6c06-44b9-c495-a589511ee2f7",
        "colab": {
          "base_uri": "https://localhost:8080/",
          "height": 173
        }
      },
      "source": [
        "# Build the computation graph for training\n",
        "z_dim = 20\n",
        "train_x = tf.placeholder(tf.float32, shape=[None, 28, 28, 1])\n",
        "train_z = encoder(train_x, z_dim)\n",
        "train_xr = decoder(train_z)"
      ],
      "execution_count": 0,
      "outputs": [
        {
          "output_type": "stream",
          "text": [
            "WARNING: Logging before flag parsing goes to stderr.\n",
            "W0721 09:05:34.155797 139973676341120 lazy_loader.py:50] \n",
            "The TensorFlow contrib module will not be included in TensorFlow 2.0.\n",
            "For more information, please see:\n",
            "  * https://github.com/tensorflow/community/blob/master/rfcs/20180907-contrib-sunset.md\n",
            "  * https://github.com/tensorflow/addons\n",
            "  * https://github.com/tensorflow/io (for I/O related ops)\n",
            "If you depend on functionality not listed there, please file an issue.\n",
            "\n"
          ],
          "name": "stderr"
        }
      ]
    },
    {
      "cell_type": "code",
      "metadata": {
        "id": "20tLj9M05xJc",
        "colab_type": "code",
        "colab": {}
      },
      "source": [
        "# Build the computation graph for generating samples\n",
        "gen_z = tf.placeholder(tf.float32, shape=[None, z_dim])\n",
        "gen_x = decoder(gen_z, reuse=True)"
      ],
      "execution_count": 0,
      "outputs": []
    },
    {
      "cell_type": "code",
      "metadata": {
        "id": "t0yRFfSG5xJf",
        "colab_type": "code",
        "colab": {}
      },
      "source": [
        "def compute_kernel(x, y):\n",
        "    x_size = tf.shape(x)[0]\n",
        "    y_size = tf.shape(y)[0]\n",
        "    dim = tf.shape(x)[1]\n",
        "    tiled_x = tf.tile(tf.reshape(x, tf.stack([x_size, 1, dim])), tf.stack([1, y_size, 1]))\n",
        "    tiled_y = tf.tile(tf.reshape(y, tf.stack([1, y_size, dim])), tf.stack([x_size, 1, 1]))\n",
        "    return tf.exp(-tf.reduce_mean(tf.square(tiled_x - tiled_y), axis=2) / tf.cast(dim, tf.float32))\n",
        "\n",
        "def compute_mmd(x, y):\n",
        "    x_kernel = compute_kernel(x, x)\n",
        "    y_kernel = compute_kernel(y, y)\n",
        "    xy_kernel = compute_kernel(x, y)\n",
        "    return tf.reduce_mean(x_kernel) + tf.reduce_mean(y_kernel) - 2 * tf.reduce_mean(xy_kernel)"
      ],
      "execution_count": 0,
      "outputs": []
    },
    {
      "cell_type": "code",
      "metadata": {
        "id": "h3_n7N0D5xJj",
        "colab_type": "code",
        "colab": {}
      },
      "source": [
        "# Compare the generated z with true samples from a standard Gaussian, and compute their MMD distance\n",
        "true_samples = tf.random_normal(tf.stack([200, z_dim]))\n",
        "loss_mmd = compute_mmd(true_samples, train_z)"
      ],
      "execution_count": 0,
      "outputs": []
    },
    {
      "cell_type": "code",
      "metadata": {
        "id": "Ph7SYseg5xJt",
        "colab_type": "code",
        "outputId": "ce63b004-d5fd-40a2-e93e-ab765530e983",
        "colab": {
          "base_uri": "https://localhost:8080/",
          "height": 89
        }
      },
      "source": [
        "loss_nll = tf.reduce_mean(tf.square(train_xr - train_x))\n",
        "loss = loss_nll + loss_mmd\n",
        "trainer = tf.train.AdamOptimizer(1e-3).minimize(loss)"
      ],
      "execution_count": 0,
      "outputs": [
        {
          "output_type": "stream",
          "text": [
            "W0721 09:05:36.207656 139973676341120 deprecation.py:323] From /usr/local/lib/python3.6/dist-packages/tensorflow/python/ops/math_grad.py:1250: add_dispatch_support.<locals>.wrapper (from tensorflow.python.ops.array_ops) is deprecated and will be removed in a future version.\n",
            "Instructions for updating:\n",
            "Use tf.where in 2.0, which has the same broadcast rule as np.where\n"
          ],
          "name": "stderr"
        }
      ]
    },
    {
      "cell_type": "code",
      "metadata": {
        "id": "Qs5UkgJ95xJx",
        "colab_type": "code",
        "outputId": "a422cd0c-3dba-4fb4-e47a-4c782d57e8af",
        "colab": {
          "base_uri": "https://localhost:8080/",
          "height": 488
        }
      },
      "source": [
        "from tensorflow.examples.tutorials.mnist import input_data\n",
        "mnist = input_data.read_data_sets('mnist_data')"
      ],
      "execution_count": 0,
      "outputs": [
        {
          "output_type": "stream",
          "text": [
            "W0721 09:05:36.600197 139973676341120 deprecation.py:323] From <ipython-input-10-3358d3e207c9>:2: read_data_sets (from tensorflow.contrib.learn.python.learn.datasets.mnist) is deprecated and will be removed in a future version.\n",
            "Instructions for updating:\n",
            "Please use alternatives such as official/mnist/dataset.py from tensorflow/models.\n",
            "W0721 09:05:36.604506 139973676341120 deprecation.py:323] From /usr/local/lib/python3.6/dist-packages/tensorflow/contrib/learn/python/learn/datasets/mnist.py:260: maybe_download (from tensorflow.contrib.learn.python.learn.datasets.base) is deprecated and will be removed in a future version.\n",
            "Instructions for updating:\n",
            "Please write your own downloading logic.\n",
            "W0721 09:05:36.610090 139973676341120 deprecation.py:323] From /usr/local/lib/python3.6/dist-packages/tensorflow/contrib/learn/python/learn/datasets/base.py:252: _internal_retry.<locals>.wrap.<locals>.wrapped_fn (from tensorflow.contrib.learn.python.learn.datasets.base) is deprecated and will be removed in a future version.\n",
            "Instructions for updating:\n",
            "Please use urllib or similar directly.\n",
            "W0721 09:05:37.174745 139973676341120 deprecation.py:323] From /usr/local/lib/python3.6/dist-packages/tensorflow/contrib/learn/python/learn/datasets/mnist.py:262: extract_images (from tensorflow.contrib.learn.python.learn.datasets.mnist) is deprecated and will be removed in a future version.\n",
            "Instructions for updating:\n",
            "Please use tf.data to implement this functionality.\n"
          ],
          "name": "stderr"
        },
        {
          "output_type": "stream",
          "text": [
            "Successfully downloaded train-images-idx3-ubyte.gz 9912422 bytes.\n",
            "Extracting mnist_data/train-images-idx3-ubyte.gz\n"
          ],
          "name": "stdout"
        },
        {
          "output_type": "stream",
          "text": [
            "W0721 09:05:37.607078 139973676341120 deprecation.py:323] From /usr/local/lib/python3.6/dist-packages/tensorflow/contrib/learn/python/learn/datasets/mnist.py:267: extract_labels (from tensorflow.contrib.learn.python.learn.datasets.mnist) is deprecated and will be removed in a future version.\n",
            "Instructions for updating:\n",
            "Please use tf.data to implement this functionality.\n"
          ],
          "name": "stderr"
        },
        {
          "output_type": "stream",
          "text": [
            "Successfully downloaded train-labels-idx1-ubyte.gz 28881 bytes.\n",
            "Extracting mnist_data/train-labels-idx1-ubyte.gz\n",
            "Successfully downloaded t10k-images-idx3-ubyte.gz 1648877 bytes.\n",
            "Extracting mnist_data/t10k-images-idx3-ubyte.gz\n"
          ],
          "name": "stdout"
        },
        {
          "output_type": "stream",
          "text": [
            "W0721 09:05:37.957523 139973676341120 deprecation.py:323] From /usr/local/lib/python3.6/dist-packages/tensorflow/contrib/learn/python/learn/datasets/mnist.py:290: DataSet.__init__ (from tensorflow.contrib.learn.python.learn.datasets.mnist) is deprecated and will be removed in a future version.\n",
            "Instructions for updating:\n",
            "Please use alternatives such as official/mnist/dataset.py from tensorflow/models.\n"
          ],
          "name": "stderr"
        },
        {
          "output_type": "stream",
          "text": [
            "Successfully downloaded t10k-labels-idx1-ubyte.gz 4542 bytes.\n",
            "Extracting mnist_data/t10k-labels-idx1-ubyte.gz\n"
          ],
          "name": "stdout"
        }
      ]
    },
    {
      "cell_type": "code",
      "metadata": {
        "id": "IiX1hi2M5xJ0",
        "colab_type": "code",
        "colab": {}
      },
      "source": [
        "# Convert a numpy array of shape [batch_size, height, width, 1] into a displayable array \n",
        "# of shape [height*sqrt(batch_size, width*sqrt(batch_size))] by tiling the images\n",
        "def convert_to_display(samples):\n",
        "    cnt, height, width = int(math.floor(math.sqrt(samples.shape[0]))), samples.shape[1], samples.shape[2]\n",
        "    samples = np.transpose(samples, axes=[1, 0, 2, 3])\n",
        "    samples = np.reshape(samples, [height, cnt, cnt, width])\n",
        "    samples = np.transpose(samples, axes=[1, 0, 2, 3])\n",
        "    samples = np.reshape(samples, [height*cnt, width*cnt])\n",
        "    return samples"
      ],
      "execution_count": 0,
      "outputs": []
    },
    {
      "cell_type": "code",
      "metadata": {
        "id": "Yzqzo3CJ5xJ3",
        "colab_type": "code",
        "colab": {}
      },
      "source": [
        "os.environ['CUDA_VISIBLE_DEVICES'] = '2'\n",
        "batch_size = 200\n",
        "sess = tf.Session()\n",
        "sess.run(tf.global_variables_initializer())"
      ],
      "execution_count": 0,
      "outputs": []
    },
    {
      "cell_type": "code",
      "metadata": {
        "id": "sHlIf4lP5xJ7",
        "colab_type": "code",
        "outputId": "f2ee71be-0ed6-4f3a-b4d0-8058fa1a9945",
        "colab": {
          "base_uri": "https://localhost:8080/",
          "height": 356
        }
      },
      "source": [
        "# Start training\n",
        "for i in range(500):\n",
        "    batch_x, batch_y = mnist.train.next_batch(batch_size)\n",
        "    batch_x = batch_x.reshape(-1, 28, 28, 1)\n",
        "    _, nll, mmd = sess.run([trainer, loss_nll, loss_mmd], feed_dict={train_x: batch_x})\n",
        "    if i % 100 == 0:\n",
        "        print(\"Negative log likelihood is %f, mmd loss is %f\" % (nll, mmd))\n",
        "    if i % 500 == 0:\n",
        "        samples = sess.run(gen_x, feed_dict={gen_z: np.random.normal(size=(100, z_dim))})\n",
        "        plt.imshow(convert_to_display(samples), cmap='Greys_r')\n",
        "        plt.show()"
      ],
      "execution_count": 0,
      "outputs": [
        {
          "output_type": "stream",
          "text": [
            "Negative log likelihood is 0.009275, mmd loss is 0.001123\n"
          ],
          "name": "stdout"
        },
        {
          "output_type": "display_data",
          "data": {
            "image/png": "[encoded data removed]",
            "text/plain": [
              "<Figure size 432x288 with 1 Axes>"
            ]
          },
          "metadata": {
            "tags": []
          }
        },
        {
          "output_type": "stream",
          "text": [
            "Negative log likelihood is 0.008786, mmd loss is 0.001334\n",
            "Negative log likelihood is 0.007917, mmd loss is 0.001056\n",
            "Negative log likelihood is 0.006628, mmd loss is 0.001885\n",
            "Negative log likelihood is 0.006932, mmd loss is 0.000774\n"
          ],
          "name": "stdout"
        }
      ]
    },
    {
      "cell_type": "code",
      "metadata": {
        "id": "1mtFEHl15xJ9",
        "colab_type": "code",
        "colab": {}
      },
      "source": [
        ""
      ],
      "execution_count": 0,
      "outputs": []
    }
  ]
}
