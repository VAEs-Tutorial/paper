{
  "nbformat": 4,
  "nbformat_minor": 0,
  "metadata": {
    "colab": {
      "name": "VADE.ipynb",
      "provenance": [],
      "machine_shape": "hm",
      "authorship_tag": "ABX9TyOSLa6yrdkn36RtDB4mMzqW",
      "include_colab_link": true
    },
    "kernelspec": {
      "name": "python3",
      "display_name": "Python 3"
    },
    "accelerator": "GPU"
  },
  "cells": [
    {
      "cell_type": "markdown",
      "metadata": {
        "id": "view-in-github",
        "colab_type": "text"
      },
      "source": [
        "<a href=\"https://colab.research.google.com/github/VAEs-Tutorial/paper/blob/master/VADE.ipynb\" target=\"_parent\"><img src=\"https://colab.research.google.com/assets/colab-badge.svg\" alt=\"Open In Colab\"/></a>"
      ]
    },
    {
      "cell_type": "code",
      "metadata": {
        "id": "9GlxHcQSgvbC",
        "colab_type": "code",
        "colab": {
          "base_uri": "https://localhost:8080/",
          "height": 87
        },
        "outputId": "bca635a5-da04-4b3c-e02a-c91f28281a38"
      },
      "source": [
        "! git clone https://github.com/slim1017/VaDE"
      ],
      "execution_count": null,
      "outputs": [
        {
          "output_type": "stream",
          "text": [
            "Cloning into 'VaDE'...\n",
            "remote: Enumerating objects: 83, done.\u001b[K\n",
            "remote: Total 83 (delta 0), reused 0 (delta 0), pack-reused 83\u001b[K\n",
            "Unpacking objects: 100% (83/83), done.\n"
          ],
          "name": "stdout"
        }
      ]
    },
    {
      "cell_type": "code",
      "metadata": {
        "id": "00gRkLPCh57l",
        "colab_type": "code",
        "colab": {
          "base_uri": "https://localhost:8080/",
          "height": 386
        },
        "outputId": "687047d9-cf05-43ce-dbdf-6037975cdc3a"
      },
      "source": [
        "!pip install keras==1.1.0"
      ],
      "execution_count": null,
      "outputs": [
        {
          "output_type": "stream",
          "text": [
            "Collecting keras==1.1.0\n",
            "\u001b[?25l  Downloading https://files.pythonhosted.org/packages/a4/5e/7e64f15f0e5ae65a29c738fc261ce1e0a72d92acfc45f06ef906c6e84bf2/Keras-1.1.0.tar.gz (150kB)\n",
            "\r\u001b[K     |██▏                             | 10kB 17.9MB/s eta 0:00:01\r\u001b[K     |████▍                           | 20kB 2.9MB/s eta 0:00:01\r\u001b[K     |██████▌                         | 30kB 3.8MB/s eta 0:00:01\r\u001b[K     |████████▊                       | 40kB 4.1MB/s eta 0:00:01\r\u001b[K     |██████████▉                     | 51kB 3.2MB/s eta 0:00:01\r\u001b[K     |█████████████                   | 61kB 3.7MB/s eta 0:00:01\r\u001b[K     |███████████████▎                | 71kB 4.1MB/s eta 0:00:01\r\u001b[K     |█████████████████▍              | 81kB 4.3MB/s eta 0:00:01\r\u001b[K     |███████████████████▋            | 92kB 4.7MB/s eta 0:00:01\r\u001b[K     |█████████████████████▊          | 102kB 4.6MB/s eta 0:00:01\r\u001b[K     |████████████████████████        | 112kB 4.6MB/s eta 0:00:01\r\u001b[K     |██████████████████████████▏     | 122kB 4.6MB/s eta 0:00:01\r\u001b[K     |████████████████████████████▎   | 133kB 4.6MB/s eta 0:00:01\r\u001b[K     |██████████████████████████████▌ | 143kB 4.6MB/s eta 0:00:01\r\u001b[K     |████████████████████████████████| 153kB 4.6MB/s \n",
            "\u001b[?25hRequirement already satisfied: theano in /usr/local/lib/python3.6/dist-packages (from keras==1.1.0) (1.0.4)\n",
            "Requirement already satisfied: pyyaml in /usr/local/lib/python3.6/dist-packages (from keras==1.1.0) (3.13)\n",
            "Requirement already satisfied: six in /usr/local/lib/python3.6/dist-packages (from keras==1.1.0) (1.12.0)\n",
            "Requirement already satisfied: numpy>=1.9.1 in /usr/local/lib/python3.6/dist-packages (from theano->keras==1.1.0) (1.18.5)\n",
            "Requirement already satisfied: scipy>=0.14 in /usr/local/lib/python3.6/dist-packages (from theano->keras==1.1.0) (1.4.1)\n",
            "Building wheels for collected packages: keras\n",
            "  Building wheel for keras (setup.py) ... \u001b[?25l\u001b[?25hdone\n",
            "  Created wheel for keras: filename=Keras-1.1.0-cp36-none-any.whl size=178684 sha256=a2be1cbc244894534c484181846c0347c3e3e67694928f6a00424086e3461c41\n",
            "  Stored in directory: /root/.cache/pip/wheels/ae/83/3e/c42ce0672e537640ee706143ebdd1dd691b7693b4ca50f72a8\n",
            "Successfully built keras\n",
            "\u001b[31mERROR: textgenrnn 1.4.1 has requirement keras>=2.1.5, but you'll have keras 1.1.0 which is incompatible.\u001b[0m\n",
            "\u001b[31mERROR: kapre 0.1.3.1 has requirement keras>=2.0.0, but you'll have keras 1.1.0 which is incompatible.\u001b[0m\n",
            "\u001b[31mERROR: fancyimpute 0.4.3 has requirement keras>=2.0.0, but you'll have keras 1.1.0 which is incompatible.\u001b[0m\n",
            "Installing collected packages: keras\n",
            "  Found existing installation: Keras 2.3.1\n",
            "    Uninstalling Keras-2.3.1:\n",
            "      Successfully uninstalled Keras-2.3.1\n",
            "Successfully installed keras-1.1.0\n"
          ],
          "name": "stdout"
        }
      ]
    },
    {
      "cell_type": "code",
      "metadata": {
        "id": "xhzFZiB8iKoz",
        "colab_type": "code",
        "colab": {
          "base_uri": "https://localhost:8080/",
          "height": 406
        },
        "outputId": "c0583e31-3cbb-4ed9-be2f-4d447a5900d9"
      },
      "source": [
        "\n",
        "!pip install scikit-learn==0.17.1"
      ],
      "execution_count": null,
      "outputs": [
        {
          "output_type": "stream",
          "text": [
            "Collecting scikit-learn==0.17.1\n",
            "\u001b[?25l  Downloading https://files.pythonhosted.org/packages/0d/1d/9c775f9403565f68aa23f9cef76c817a7115abd7ca1e1c5958a68c49fb6f/scikit-learn-0.17.1.tar.gz (7.9MB)\n",
            "\u001b[K     |████████████████████████████████| 7.9MB 5.0MB/s \n",
            "\u001b[?25hBuilding wheels for collected packages: scikit-learn\n",
            "  Building wheel for scikit-learn (setup.py) ... \u001b[?25l\u001b[?25hdone\n",
            "  Created wheel for scikit-learn: filename=scikit_learn-0.17.1-cp36-cp36m-linux_x86_64.whl size=8175295 sha256=742eaceef281240d3daf382ae3a29e426bcc8e000e69076d84c662a5839d15a8\n",
            "  Stored in directory: /root/.cache/pip/wheels/17/68/59/e7417b53bb95a8bbbf17f8ab90fa1b8e985141e76de1d110b7\n",
            "Successfully built scikit-learn\n",
            "\u001b[31mERROR: yellowbrick 0.9.1 has requirement scikit-learn>=0.20, but you'll have scikit-learn 0.17.1 which is incompatible.\u001b[0m\n",
            "\u001b[31mERROR: umap-learn 0.4.4 has requirement scikit-learn>=0.20, but you'll have scikit-learn 0.17.1 which is incompatible.\u001b[0m\n",
            "\u001b[31mERROR: textgenrnn 1.4.1 has requirement keras>=2.1.5, but you'll have keras 1.1.0 which is incompatible.\u001b[0m\n",
            "\u001b[31mERROR: mlxtend 0.14.0 has requirement scikit-learn>=0.18, but you'll have scikit-learn 0.17.1 which is incompatible.\u001b[0m\n",
            "\u001b[31mERROR: kapre 0.1.3.1 has requirement keras>=2.0.0, but you'll have keras 1.1.0 which is incompatible.\u001b[0m\n",
            "\u001b[31mERROR: imbalanced-learn 0.4.3 has requirement scikit-learn>=0.20, but you'll have scikit-learn 0.17.1 which is incompatible.\u001b[0m\n",
            "\u001b[31mERROR: fancyimpute 0.4.3 has requirement keras>=2.0.0, but you'll have keras 1.1.0 which is incompatible.\u001b[0m\n",
            "\u001b[31mERROR: fancyimpute 0.4.3 has requirement scikit-learn>=0.19.1, but you'll have scikit-learn 0.17.1 which is incompatible.\u001b[0m\n",
            "Installing collected packages: scikit-learn\n",
            "  Found existing installation: scikit-learn 0.22.2.post1\n",
            "    Uninstalling scikit-learn-0.22.2.post1:\n",
            "      Successfully uninstalled scikit-learn-0.22.2.post1\n",
            "Successfully installed scikit-learn-0.17.1\n"
          ],
          "name": "stdout"
        }
      ]
    },
    {
      "cell_type": "code",
      "metadata": {
        "id": "NZOnZAUGjVzh",
        "colab_type": "code",
        "colab": {
          "base_uri": "https://localhost:8080/",
          "height": 34
        },
        "outputId": "1aaff1a0-5def-4dcb-9b80-1cfe2c6598f4"
      },
      "source": [
        "import os\n",
        "os.environ[\"KERAS_BACKEND\"] = \"theano\"\n",
        "import keras.backend\n",
        "keras.backend.set_image_dim_ordering('th')"
      ],
      "execution_count": null,
      "outputs": [
        {
          "output_type": "stream",
          "text": [
            "Using Theano backend.\n"
          ],
          "name": "stderr"
        }
      ]
    },
    {
      "cell_type": "code",
      "metadata": {
        "id": "Eeelc9qljp6a",
        "colab_type": "code",
        "colab": {
          "base_uri": "https://localhost:8080/",
          "height": 523
        },
        "outputId": "c8b1f022-33eb-43de-8330-539a7fb991f7"
      },
      "source": [
        "!python /content/VaDE/VaDE.py db\n",
        "#from scipy.special import comb \n",
        "'''def load_data(dataset):\n",
        "    path = 'dataset/'+dataset+'/'\n",
        "    if dataset == 'mnist':\n",
        "        #path =  '/content/neural-networks-and-deep-learning/data/mnist.pkl.gz'\n",
        "        #if path.endswith(\".gz\"):\n",
        "         #   f = gzip.open(path, 'rb')\n",
        "        #else:\n",
        "         #   f = open(path, 'rb')\n",
        "    \n",
        "        if sys.version_info < (3,):\n",
        "            #(x_train, y_train), (x_test, y_test) = cPickle.load(f)\n",
        "            (x_train, y_train), (x_test, y_test) = mnist.load_data()\n",
        "        else:\n",
        "            #(x_train, y_train), (x_test, y_test) = cPickle.load(f, encoding=\"bytes\")\n",
        "            (x_train, y_train), (x_test, y_test) = mnist.load_data()\n",
        "    \n",
        "       # f.close()\n",
        "'''\n",
        "#Replace keras/engine/training.py by training.py in this repository!!\n"
      ],
      "execution_count": null,
      "outputs": [
        {
          "output_type": "stream",
          "text": [
            "Using Theano backend.\n",
            "training on: mnist\n",
            "WARNING (theano.tensor.blas): We did not find a dynamic library in the library_dir of the library we use for blas. If you use ATLAS, make sure to compile it with dynamics library.\n",
            "pretrain weights loaded!\n",
            "Epoch 1/3000\n",
            "70000/70000 [==============================] - 56s - loss: 200.1373    \n",
            "acc_p_c_z:0.79357143\n",
            "Epoch 2/3000\n",
            "70000/70000 [==============================] - 64s - loss: 187.9058    \n",
            "acc_p_c_z:0.80957143\n",
            "Epoch 3/3000\n",
            "70000/70000 [==============================] - 65s - loss: 187.0330    \n",
            "acc_p_c_z:0.80012857\n",
            "Epoch 4/3000\n",
            "70000/70000 [==============================] - 66s - loss: 186.5691    \n",
            "acc_p_c_z:0.79942857\n",
            "Epoch 5/3000\n",
            "70000/70000 [==============================] - 66s - loss: 186.2419    \n",
            "acc_p_c_z:0.79440000\n",
            "Epoch 6/3000\n",
            "70000/70000 [==============================] - 66s - loss: 185.9498    \n",
            "acc_p_c_z:0.80050000\n",
            "Epoch 7/3000\n",
            "70000/70000 [==============================] - 67s - loss: 185.6821    \n",
            "acc_p_c_z:0.79524286\n",
            "Epoch 8/3000\n",
            " 8500/70000 [==>...........................] - ETA: 59s - loss: 185.0625"
          ],
          "name": "stdout"
        }
      ]
    }
  ]
}