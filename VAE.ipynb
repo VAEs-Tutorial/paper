{
  "nbformat": 4,
  "nbformat_minor": 0,
  "metadata": {
    "colab": {
      "name": "VAE.ipynb",
      "provenance": [],
      "machine_shape": "hm",
      "authorship_tag": "ABX9TyP7MxI+ohvRfBTJSrcDkvzR",
      "include_colab_link": true
    },
    "kernelspec": {
      "name": "python3",
      "display_name": "Python 3"
    },
    "accelerator": "GPU"
  },
  "cells": [
    {
      "cell_type": "markdown",
      "metadata": {
        "id": "view-in-github",
        "colab_type": "text"
      },
      "source": [
        "<a href=\"https://colab.research.google.com/github/VAEs-Tutorial/paper/blob/master/VAE.ipynb\" target=\"_parent\"><img src=\"https://colab.research.google.com/assets/colab-badge.svg\" alt=\"Open In Colab\"/></a>"
      ]
    },
    {
      "cell_type": "code",
      "metadata": {
        "id": "OWgbuk--MKt7",
        "colab_type": "code",
        "colab": {
          "base_uri": "https://localhost:8080/",
          "height": 34
        },
        "outputId": "f0a40b58-96aa-48c2-8d73-7d23c61a45fe"
      },
      "source": [
        "import numpy as np\n",
        "import matplotlib.pyplot as plt\n",
        "from scipy.stats import norm\n",
        "\n",
        "from keras.layers import Input, Dense, Lambda\n",
        "from keras.models import Model\n",
        "from keras import backend as K\n",
        "from keras import metrics\n",
        "from keras.datasets import mnist"
      ],
      "execution_count": 1,
      "outputs": [
        {
          "output_type": "stream",
          "text": [
            "Using TensorFlow backend.\n"
          ],
          "name": "stderr"
        }
      ]
    },
    {
      "cell_type": "code",
      "metadata": {
        "id": "5dguCYkHMPDU",
        "colab_type": "code",
        "colab": {}
      },
      "source": [
        "batch_size = 100 \n",
        "\n",
        "original_dim = 784\n",
        "latent_dim = 2\n",
        "intermediate_dim = 256\n",
        "epochs = 50\n",
        "epsilon_std = 1.0\n",
        "\n",
        "x = Input(shape=(original_dim,))\n",
        "h = Dense(intermediate_dim, activation='relu')(x)\n",
        "z_mean = Dense(latent_dim)(h)\n",
        "z_log_var = Dense(latent_dim)(h)"
      ],
      "execution_count": 34,
      "outputs": []
    },
    {
      "cell_type": "code",
      "metadata": {
        "id": "DPDEZ5QfNcIj",
        "colab_type": "code",
        "colab": {
          "base_uri": "https://localhost:8080/",
          "height": 72
        },
        "outputId": "f157b578-f647-4555-d1ee-5039698ed888"
      },
      "source": [
        "def sampling(args):\n",
        "    z_mean, z_log_var = args\n",
        "    epsilon = K.random_normal(shape=(K.shape(z_mean)[0], latent_dim), mean=0., stddev=epsilon_std)\n",
        "    return z_mean + K.exp(z_log_var / 2) * epsilon\n",
        "\n",
        "# note that \"output_shape\" isn't necessary with the TensorFlow backend\n",
        "z = Lambda(sampling, output_shape=(latent_dim,))([z_mean, z_log_var])#\n",
        "\n",
        "decoder_h = Dense(intermediate_dim, activation='relu')\n",
        "decoder_mean = Dense(original_dim, activation='sigmoid')#\n",
        "\n",
        "h_decoded = decoder_h(z)#\n",
        "x_decoded_mean = decoder_mean(h_decoded)#\n",
        "\n",
        "# instantiate VAE model\n",
        "vae = Model(x, x_decoded_mean)\n",
        "\n",
        "# Compute VAE loss\n",
        "xent_loss = original_dim * metrics.binary_crossentropy(x, x_decoded_mean)\n",
        "kl_loss = - 0.5 * K.sum(1 + z_log_var - K.square(z_mean) - K.exp(z_log_var), axis=-1) #\n",
        "vae_loss = K.mean(xent_loss + kl_loss)\n",
        "\n",
        "\n",
        "vae.add_loss(vae_loss) #\n",
        "\n",
        "vae.add_metric(original_dim * metrics.binary_crossentropy(x, x_decoded_mean), name='Reconstruction Loss')\n",
        "vae.add_metric(- 0.5 * K.sum(1 + z_log_var - K.square(z_mean) - K.exp(z_log_var), axis=-1), name='KL_Loss')\n",
        "vae.compile(optimizer='rmsprop') #\n",
        "\n"
      ],
      "execution_count": 32,
      "outputs": [
        {
          "output_type": "stream",
          "text": [
            "/usr/local/lib/python3.6/dist-packages/keras/engine/training_utils.py:819: UserWarning: Output dense_42 missing from loss dictionary. We assume this was done on purpose. The fit and evaluate APIs will not be expecting any data to be passed to dense_42.\n",
            "  'be expecting any data to be passed to {0}.'.format(name))\n"
          ],
          "name": "stderr"
        }
      ]
    },
    {
      "cell_type": "code",
      "metadata": {
        "id": "a-eebI5pNknp",
        "colab_type": "code",
        "colab": {}
      },
      "source": [
        "(x_train, _), (x_test, y_test) = mnist.load_data()\n",
        "\n",
        "\n",
        "x_train = x_train.astype('float32') / 255.#数据预处理归一化\n",
        "\n",
        "x_test = x_test.astype('float32') / 255.\n",
        "x_train = x_train.reshape((len(x_train), np.prod(x_train.shape[1:])))#\n",
        "\n",
        "x_test = x_test.reshape((len(x_test), np.prod(x_test.shape[1:])))"
      ],
      "execution_count": 6,
      "outputs": []
    },
    {
      "cell_type": "code",
      "metadata": {
        "id": "wNwaSIIDNoeH",
        "colab_type": "code",
        "colab": {
          "base_uri": "https://localhost:8080/",
          "height": 1000
        },
        "outputId": "da687a0c-a29e-4870-b493-8713b5056833"
      },
      "source": [
        "vae.fit(x_train,#\n",
        "        shuffle=True,\n",
        "        epochs=epochs,\n",
        "        batch_size=batch_size,\n",
        "        verbose=2,\n",
        "        validation_data=(x_test, None))"
      ],
      "execution_count": 35,
      "outputs": [
        {
          "output_type": "stream",
          "text": [
            "Train on 60000 samples, validate on 10000 samples\n",
            "Epoch 1/50\n",
            " - 2s - loss: 156.7451 - Reconstruction Loss: 151.1743 - KL_Loss: 5.5707 - val_loss: 157.4847 - val_Reconstruction Loss: 151.8109 - val_KL_Loss: 5.6738\n",
            "Epoch 2/50\n",
            " - 2s - loss: 156.4396 - Reconstruction Loss: 150.8390 - KL_Loss: 5.6007 - val_loss: 157.4172 - val_Reconstruction Loss: 151.8541 - val_KL_Loss: 5.5630\n",
            "Epoch 3/50\n",
            " - 2s - loss: 156.1200 - Reconstruction Loss: 150.5065 - KL_Loss: 5.6135 - val_loss: 156.7998 - val_Reconstruction Loss: 151.2624 - val_KL_Loss: 5.5374\n",
            "Epoch 4/50\n",
            " - 2s - loss: 155.8161 - Reconstruction Loss: 150.1769 - KL_Loss: 5.6391 - val_loss: 156.7832 - val_Reconstruction Loss: 151.1684 - val_KL_Loss: 5.6147\n",
            "Epoch 5/50\n",
            " - 2s - loss: 155.5395 - Reconstruction Loss: 149.8628 - KL_Loss: 5.6767 - val_loss: 156.7513 - val_Reconstruction Loss: 151.1158 - val_KL_Loss: 5.6355\n",
            "Epoch 6/50\n",
            " - 2s - loss: 155.2667 - Reconstruction Loss: 149.5845 - KL_Loss: 5.6822 - val_loss: 156.3658 - val_Reconstruction Loss: 150.7191 - val_KL_Loss: 5.6468\n",
            "Epoch 7/50\n",
            " - 2s - loss: 155.0193 - Reconstruction Loss: 149.3270 - KL_Loss: 5.6923 - val_loss: 156.7300 - val_Reconstruction Loss: 150.9542 - val_KL_Loss: 5.7758\n",
            "Epoch 8/50\n",
            " - 2s - loss: 154.7826 - Reconstruction Loss: 149.0719 - KL_Loss: 5.7107 - val_loss: 156.0529 - val_Reconstruction Loss: 150.2610 - val_KL_Loss: 5.7920\n",
            "Epoch 9/50\n",
            " - 2s - loss: 154.5574 - Reconstruction Loss: 148.8128 - KL_Loss: 5.7446 - val_loss: 155.9638 - val_Reconstruction Loss: 150.2393 - val_KL_Loss: 5.7246\n",
            "Epoch 10/50\n",
            " - 2s - loss: 154.3450 - Reconstruction Loss: 148.5845 - KL_Loss: 5.7604 - val_loss: 155.6409 - val_Reconstruction Loss: 149.8149 - val_KL_Loss: 5.8260\n",
            "Epoch 11/50\n",
            " - 2s - loss: 154.1444 - Reconstruction Loss: 148.3748 - KL_Loss: 5.7696 - val_loss: 155.4694 - val_Reconstruction Loss: 149.7298 - val_KL_Loss: 5.7397\n",
            "Epoch 12/50\n",
            " - 2s - loss: 153.9436 - Reconstruction Loss: 148.1565 - KL_Loss: 5.7871 - val_loss: 155.1537 - val_Reconstruction Loss: 149.4134 - val_KL_Loss: 5.7403\n",
            "Epoch 13/50\n",
            " - 2s - loss: 153.7674 - Reconstruction Loss: 147.9623 - KL_Loss: 5.8050 - val_loss: 154.9631 - val_Reconstruction Loss: 149.1470 - val_KL_Loss: 5.8161\n",
            "Epoch 14/50\n",
            " - 2s - loss: 153.5988 - Reconstruction Loss: 147.7820 - KL_Loss: 5.8168 - val_loss: 154.8838 - val_Reconstruction Loss: 149.0483 - val_KL_Loss: 5.8355\n",
            "Epoch 15/50\n",
            " - 2s - loss: 153.4256 - Reconstruction Loss: 147.6005 - KL_Loss: 5.8251 - val_loss: 154.8389 - val_Reconstruction Loss: 148.9578 - val_KL_Loss: 5.8812\n",
            "Epoch 16/50\n",
            " - 2s - loss: 153.2818 - Reconstruction Loss: 147.4286 - KL_Loss: 5.8532 - val_loss: 154.7588 - val_Reconstruction Loss: 148.9110 - val_KL_Loss: 5.8479\n",
            "Epoch 17/50\n",
            " - 2s - loss: 153.1151 - Reconstruction Loss: 147.2568 - KL_Loss: 5.8583 - val_loss: 154.8519 - val_Reconstruction Loss: 149.0277 - val_KL_Loss: 5.8243\n",
            "Epoch 18/50\n",
            " - 2s - loss: 152.9808 - Reconstruction Loss: 147.1045 - KL_Loss: 5.8763 - val_loss: 154.8094 - val_Reconstruction Loss: 148.9304 - val_KL_Loss: 5.8791\n",
            "Epoch 19/50\n",
            " - 2s - loss: 152.8452 - Reconstruction Loss: 146.9644 - KL_Loss: 5.8809 - val_loss: 154.2804 - val_Reconstruction Loss: 148.4105 - val_KL_Loss: 5.8698\n",
            "Epoch 20/50\n",
            " - 2s - loss: 152.6864 - Reconstruction Loss: 146.8044 - KL_Loss: 5.8820 - val_loss: 154.2827 - val_Reconstruction Loss: 148.3243 - val_KL_Loss: 5.9585\n",
            "Epoch 21/50\n",
            " - 2s - loss: 152.5159 - Reconstruction Loss: 146.6301 - KL_Loss: 5.8858 - val_loss: 154.1643 - val_Reconstruction Loss: 148.2817 - val_KL_Loss: 5.8825\n",
            "Epoch 22/50\n",
            " - 2s - loss: 152.4525 - Reconstruction Loss: 146.5383 - KL_Loss: 5.9142 - val_loss: 154.2250 - val_Reconstruction Loss: 148.3679 - val_KL_Loss: 5.8571\n",
            "Epoch 23/50\n",
            " - 2s - loss: 152.3224 - Reconstruction Loss: 146.4006 - KL_Loss: 5.9218 - val_loss: 154.3501 - val_Reconstruction Loss: 148.5127 - val_KL_Loss: 5.8373\n",
            "Epoch 24/50\n",
            " - 2s - loss: 152.2053 - Reconstruction Loss: 146.2744 - KL_Loss: 5.9308 - val_loss: 154.1579 - val_Reconstruction Loss: 148.2172 - val_KL_Loss: 5.9407\n",
            "Epoch 25/50\n",
            " - 2s - loss: 152.1029 - Reconstruction Loss: 146.1528 - KL_Loss: 5.9501 - val_loss: 154.1733 - val_Reconstruction Loss: 148.3465 - val_KL_Loss: 5.8268\n",
            "Epoch 26/50\n",
            " - 2s - loss: 151.9461 - Reconstruction Loss: 146.0128 - KL_Loss: 5.9332 - val_loss: 154.1317 - val_Reconstruction Loss: 148.1715 - val_KL_Loss: 5.9602\n",
            "Epoch 27/50\n",
            " - 2s - loss: 151.8766 - Reconstruction Loss: 145.9221 - KL_Loss: 5.9546 - val_loss: 153.9288 - val_Reconstruction Loss: 147.9610 - val_KL_Loss: 5.9679\n",
            "Epoch 28/50\n",
            " - 2s - loss: 151.7711 - Reconstruction Loss: 145.8058 - KL_Loss: 5.9653 - val_loss: 153.8191 - val_Reconstruction Loss: 147.9418 - val_KL_Loss: 5.8772\n",
            "Epoch 29/50\n",
            " - 2s - loss: 151.6630 - Reconstruction Loss: 145.6955 - KL_Loss: 5.9675 - val_loss: 154.2639 - val_Reconstruction Loss: 148.3854 - val_KL_Loss: 5.8784\n",
            "Epoch 30/50\n",
            " - 2s - loss: 151.5909 - Reconstruction Loss: 145.5936 - KL_Loss: 5.9973 - val_loss: 153.9634 - val_Reconstruction Loss: 147.9285 - val_KL_Loss: 6.0349\n",
            "Epoch 31/50\n",
            " - 2s - loss: 151.4598 - Reconstruction Loss: 145.4713 - KL_Loss: 5.9885 - val_loss: 153.8485 - val_Reconstruction Loss: 147.8118 - val_KL_Loss: 6.0367\n",
            "Epoch 32/50\n",
            " - 2s - loss: 151.3733 - Reconstruction Loss: 145.3808 - KL_Loss: 5.9925 - val_loss: 153.5564 - val_Reconstruction Loss: 147.5940 - val_KL_Loss: 5.9624\n",
            "Epoch 33/50\n",
            " - 2s - loss: 151.3207 - Reconstruction Loss: 145.3115 - KL_Loss: 6.0093 - val_loss: 153.6478 - val_Reconstruction Loss: 147.6772 - val_KL_Loss: 5.9707\n",
            "Epoch 34/50\n",
            " - 2s - loss: 151.2197 - Reconstruction Loss: 145.1950 - KL_Loss: 6.0247 - val_loss: 153.8763 - val_Reconstruction Loss: 147.8415 - val_KL_Loss: 6.0347\n",
            "Epoch 35/50\n",
            " - 2s - loss: 151.1286 - Reconstruction Loss: 145.0990 - KL_Loss: 6.0296 - val_loss: 153.4949 - val_Reconstruction Loss: 147.3940 - val_KL_Loss: 6.1009\n",
            "Epoch 36/50\n",
            " - 2s - loss: 151.0439 - Reconstruction Loss: 145.0020 - KL_Loss: 6.0419 - val_loss: 153.6146 - val_Reconstruction Loss: 147.4895 - val_KL_Loss: 6.1250\n",
            "Epoch 37/50\n",
            " - 2s - loss: 151.0026 - Reconstruction Loss: 144.9428 - KL_Loss: 6.0598 - val_loss: 154.0585 - val_Reconstruction Loss: 148.0263 - val_KL_Loss: 6.0322\n",
            "Epoch 38/50\n",
            " - 2s - loss: 150.8569 - Reconstruction Loss: 144.8136 - KL_Loss: 6.0432 - val_loss: 153.6991 - val_Reconstruction Loss: 147.6427 - val_KL_Loss: 6.0565\n",
            "Epoch 39/50\n",
            " - 2s - loss: 150.8063 - Reconstruction Loss: 144.7383 - KL_Loss: 6.0680 - val_loss: 153.0893 - val_Reconstruction Loss: 147.0182 - val_KL_Loss: 6.0711\n",
            "Epoch 40/50\n",
            " - 2s - loss: 150.7112 - Reconstruction Loss: 144.6408 - KL_Loss: 6.0705 - val_loss: 153.3882 - val_Reconstruction Loss: 147.4019 - val_KL_Loss: 5.9864\n",
            "Epoch 41/50\n",
            " - 2s - loss: 150.6509 - Reconstruction Loss: 144.5827 - KL_Loss: 6.0682 - val_loss: 153.2937 - val_Reconstruction Loss: 147.2955 - val_KL_Loss: 5.9981\n",
            "Epoch 42/50\n",
            " - 2s - loss: 150.5649 - Reconstruction Loss: 144.4891 - KL_Loss: 6.0758 - val_loss: 153.0214 - val_Reconstruction Loss: 146.9431 - val_KL_Loss: 6.0783\n",
            "Epoch 43/50\n",
            " - 2s - loss: 150.5152 - Reconstruction Loss: 144.4267 - KL_Loss: 6.0885 - val_loss: 153.2446 - val_Reconstruction Loss: 147.1864 - val_KL_Loss: 6.0583\n",
            "Epoch 44/50\n",
            " - 2s - loss: 150.4144 - Reconstruction Loss: 144.3337 - KL_Loss: 6.0807 - val_loss: 153.2297 - val_Reconstruction Loss: 147.1727 - val_KL_Loss: 6.0571\n",
            "Epoch 45/50\n",
            " - 2s - loss: 150.3544 - Reconstruction Loss: 144.2647 - KL_Loss: 6.0897 - val_loss: 153.1350 - val_Reconstruction Loss: 147.0789 - val_KL_Loss: 6.0561\n",
            "Epoch 46/50\n",
            " - 2s - loss: 150.3177 - Reconstruction Loss: 144.2025 - KL_Loss: 6.1152 - val_loss: 153.1013 - val_Reconstruction Loss: 147.0370 - val_KL_Loss: 6.0642\n",
            "Epoch 47/50\n",
            " - 2s - loss: 150.2385 - Reconstruction Loss: 144.1348 - KL_Loss: 6.1037 - val_loss: 153.5187 - val_Reconstruction Loss: 147.4945 - val_KL_Loss: 6.0242\n",
            "Epoch 48/50\n",
            " - 2s - loss: 150.1754 - Reconstruction Loss: 144.0569 - KL_Loss: 6.1184 - val_loss: 152.8754 - val_Reconstruction Loss: 146.7769 - val_KL_Loss: 6.0985\n",
            "Epoch 49/50\n",
            " - 2s - loss: 150.1120 - Reconstruction Loss: 143.9900 - KL_Loss: 6.1221 - val_loss: 152.8138 - val_Reconstruction Loss: 146.7056 - val_KL_Loss: 6.1082\n",
            "Epoch 50/50\n",
            " - 2s - loss: 150.0320 - Reconstruction Loss: 143.9181 - KL_Loss: 6.1140 - val_loss: 153.4676 - val_Reconstruction Loss: 147.3493 - val_KL_Loss: 6.1183\n"
          ],
          "name": "stdout"
        },
        {
          "output_type": "execute_result",
          "data": {
            "text/plain": [
              "<keras.callbacks.callbacks.History at 0x7ff93cb5e9e8>"
            ]
          },
          "metadata": {
            "tags": []
          },
          "execution_count": 35
        }
      ]
    }
  ]
}